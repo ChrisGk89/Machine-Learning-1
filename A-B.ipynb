{
 "cells": [
  {
   "cell_type": "code",
   "execution_count": 9,
   "metadata": {
    "ExecuteTime": {
     "end_time": "2019-01-08T22:30:44.226918Z",
     "start_time": "2019-01-08T22:30:41.414737Z"
    }
   },
   "outputs": [],
   "source": [
    "from __future__ import print_function\n",
    "import keras\n",
    "from keras.datasets import mnist\n",
    "from keras import backend as K"
   ]
  },
  {
   "cell_type": "code",
   "execution_count": 10,
   "metadata": {
    "ExecuteTime": {
     "end_time": "2019-01-08T22:30:44.280102Z",
     "start_time": "2019-01-08T22:30:44.275091Z"
    }
   },
   "outputs": [],
   "source": [
    "# Data in batches of 128 samples, 10 classes, and 10 epochs\n",
    "batch_size = 128\n",
    "num_classes = 10\n",
    "epochs = 10"
   ]
  },
  {
   "cell_type": "code",
   "execution_count": 11,
   "metadata": {
    "ExecuteTime": {
     "end_time": "2019-01-08T22:30:45.529541Z",
     "start_time": "2019-01-08T22:30:45.524961Z"
    }
   },
   "outputs": [],
   "source": [
    "# input =  28x28 pixels and 1 color channel\n",
    "img_rows, img_cols = 28, 28"
   ]
  },
  {
   "cell_type": "code",
   "execution_count": 12,
   "metadata": {
    "ExecuteTime": {
     "end_time": "2019-01-08T22:30:47.224819Z",
     "start_time": "2019-01-08T22:30:46.665115Z"
    }
   },
   "outputs": [],
   "source": [
    "(x_train, y_train), (x_test, y_test) = mnist.load_data()"
   ]
  },
  {
   "cell_type": "code",
   "execution_count": 13,
   "metadata": {
    "ExecuteTime": {
     "end_time": "2019-01-08T22:30:48.023625Z",
     "start_time": "2019-01-08T22:30:48.011343Z"
    }
   },
   "outputs": [],
   "source": [
    "# Make sure that the input shape is correct. \n",
    "# If input shape is 28,28,1 - needs to be 1,28,28\n",
    "# This way we could avoid \"only channels first supported\" error\n",
    "# when it used in multiple computers\n",
    "# Reshaping the array to 4-dims so that it can work with the Keras API\n",
    "if K.image_data_format() == 'channels_first':\n",
    "    x_train = x_train.reshape(x_train.shape[0], 1, img_rows, img_cols)\n",
    "    x_test = x_test.reshape(x_test.shape[0], 1, img_rows, img_cols)\n",
    "    input_shape = (1, img_rows, img_cols)\n",
    "else:\n",
    "    x_train = x_train.reshape(x_train.shape[0], img_rows, img_cols, 1)\n",
    "    x_test = x_test.reshape(x_test.shape[0], img_rows, img_cols, 1)\n",
    "    input_shape = (img_rows, img_cols, 1)"
   ]
  },
  {
   "cell_type": "code",
   "execution_count": 14,
   "metadata": {
    "ExecuteTime": {
     "end_time": "2019-01-08T22:30:51.890694Z",
     "start_time": "2019-01-08T22:30:51.523710Z"
    }
   },
   "outputs": [
    {
     "name": "stdout",
     "output_type": "stream",
     "text": [
      "x_train shape: (60000, 28, 28, 1)\n",
      "60000 train samples\n",
      "10000 test samples\n"
     ]
    }
   ],
   "source": [
    "# Making sure that the values are float so that we can get decimal points after division\n",
    "x_train = x_train.astype('float32')\n",
    "x_test = x_test.astype('float32')\n",
    "# Normalizing the RGB codes by dividing it to the max RGB value.\n",
    "x_train /= 255\n",
    "x_test /= 255\n",
    "print('x_train shape:', x_train.shape)\n",
    "print(x_train.shape[0], 'train samples')\n",
    "print(x_test.shape[0], 'test samples')"
   ]
  },
  {
   "cell_type": "code",
   "execution_count": 15,
   "metadata": {
    "ExecuteTime": {
     "end_time": "2019-01-08T22:30:52.866724Z",
     "start_time": "2019-01-08T22:30:52.857262Z"
    }
   },
   "outputs": [],
   "source": [
    "#One-hot training and test data for y\n",
    "y_train = keras.utils.to_categorical(y_train, num_classes)\n",
    "y_test = keras.utils.to_categorical(y_test, num_classes)"
   ]
  },
  {
   "cell_type": "code",
   "execution_count": 16,
   "metadata": {
    "ExecuteTime": {
     "end_time": "2019-01-05T15:36:00.936395Z",
     "start_time": "2019-01-05T15:35:59.994935Z"
    }
   },
   "outputs": [
    {
     "name": "stdout",
     "output_type": "stream",
     "text": [
      "Train on 60000 samples, validate on 10000 samples\n",
      "Epoch 1/10\n",
      "60000/60000 [==============================] - 101s 2ms/step - loss: 0.2314 - acc: 0.9299 - val_loss: 0.0625 - val_acc: 0.9803\n",
      "Epoch 2/10\n",
      "60000/60000 [==============================] - 88s 1ms/step - loss: 0.0783 - acc: 0.9761 - val_loss: 0.0382 - val_acc: 0.9863\n",
      "Epoch 3/10\n",
      "60000/60000 [==============================] - 86s 1ms/step - loss: 0.0624 - acc: 0.9806 - val_loss: 0.0337 - val_acc: 0.9894\n",
      "Epoch 4/10\n",
      "60000/60000 [==============================] - 84s 1ms/step - loss: 0.0530 - acc: 0.9844 - val_loss: 0.0326 - val_acc: 0.9893\n",
      "Epoch 5/10\n",
      "60000/60000 [==============================] - 87s 1ms/step - loss: 0.0425 - acc: 0.9869 - val_loss: 0.0300 - val_acc: 0.9909\n",
      "Epoch 6/10\n",
      "60000/60000 [==============================] - 86s 1ms/step - loss: 0.0378 - acc: 0.9883 - val_loss: 0.0300 - val_acc: 0.9900\n",
      "Epoch 7/10\n",
      "60000/60000 [==============================] - 87s 1ms/step - loss: 0.0350 - acc: 0.9886 - val_loss: 0.0275 - val_acc: 0.9906\n",
      "Epoch 8/10\n",
      "60000/60000 [==============================] - 88s 1ms/step - loss: 0.0313 - acc: 0.9897 - val_loss: 0.0278 - val_acc: 0.9911\n",
      "Epoch 9/10\n",
      "60000/60000 [==============================] - 86s 1ms/step - loss: 0.0276 - acc: 0.9910 - val_loss: 0.0284 - val_acc: 0.9915\n",
      "Epoch 10/10\n",
      "60000/60000 [==============================] - 87s 1ms/step - loss: 0.0267 - acc: 0.9913 - val_loss: 0.0305 - val_acc: 0.9909\n",
      "Test loss: 0.030500609109487504\n",
      "Test accuracy: 0.9909\n"
     ]
    }
   ],
   "source": [
    "# Importing the required Keras modules containing model and layers\n",
    "from keras.models import Sequential\n",
    "from keras.layers import Dense, Conv2D, Dropout, Flatten, MaxPooling2D\n",
    "# Creating a Sequential Model and adding the layers\n",
    "model = Sequential()\n",
    "# Conv-1 layer with 32 3x3x1 filters\n",
    "model.add(Conv2D(32, kernel_size=(3, 3),\n",
    "                 activation='relu',\n",
    "                 input_shape=input_shape))\n",
    "# Conv-2 layer with 64 3x3x1 filters\n",
    "model.add(Conv2D(64, (3, 3), activation='relu'))\n",
    "# Standard 2x2 \n",
    "# Pooling layer reduce the spatial size of the representation to reduce \n",
    "# the parameter counts which reduces the computational complexity.\n",
    "model.add(MaxPooling2D(pool_size=(2, 2)))\n",
    "# Drop-1 Dropout layers fight with the overfitting by disregarding some \n",
    "# of the neurons while training\n",
    "model.add(Dropout(0.25))\n",
    "# Flattening the 2D arrays to 1D array before building a fully connected layers\n",
    "model.add(Flatten())\n",
    "model.add(Dense(128, activation='relu'))\n",
    "# Drop-2\n",
    "model.add(Dropout(0.5))\n",
    "model.add(Dense(num_classes, activation='softmax'))\n",
    "# Choosing whatever optimmizer we want\n",
    "# We can add learning rate if we want in Adam optimizer (lr=0.001).\n",
    "model.compile(loss=keras.losses.categorical_crossentropy,\n",
    "              optimizer=keras.optimizers.Adam(),\n",
    "              metrics=['accuracy'])\n",
    "\n",
    "model.fit(x_train, y_train,\n",
    "          batch_size=batch_size,\n",
    "          epochs=epochs,\n",
    "          verbose=1,\n",
    "          validation_data=(x_test, y_test))\n",
    "score = model.evaluate(x_test, y_test, verbose=0)\n",
    "print('Test loss:', score[0])\n",
    "print('Test accuracy:', score[1])"
   ]
  },
  {
   "cell_type": "code",
   "execution_count": null,
   "metadata": {},
   "outputs": [],
   "source": [
    "#start time: 7:07 PM\n",
    "#End Time : 7:21 PM\n",
    "#Total Time Taken: 14 Min"
   ]
  }
 ],
 "metadata": {
  "kernelspec": {
   "display_name": "Python 2",
   "language": "python",
   "name": "python2"
  },
  "language_info": {
   "codemirror_mode": {
    "name": "ipython",
    "version": 2
   },
   "file_extension": ".py",
   "mimetype": "text/x-python",
   "name": "python",
   "nbconvert_exporter": "python",
   "pygments_lexer": "ipython2",
   "version": "2.7.3"
  },
  "toc": {
   "base_numbering": 1,
   "nav_menu": {},
   "number_sections": true,
   "sideBar": true,
   "skip_h1_title": false,
   "title_cell": "Table of Contents",
   "title_sidebar": "Contents",
   "toc_cell": false,
   "toc_position": {},
   "toc_section_display": true,
   "toc_window_display": false
  },
  "varInspector": {
   "cols": {
    "lenName": 16,
    "lenType": 16,
    "lenVar": 40
   },
   "kernels_config": {
    "python": {
     "delete_cmd_postfix": "",
     "delete_cmd_prefix": "del ",
     "library": "var_list.py",
     "varRefreshCmd": "print(var_dic_list())"
    },
    "r": {
     "delete_cmd_postfix": ") ",
     "delete_cmd_prefix": "rm(",
     "library": "var_list.r",
     "varRefreshCmd": "cat(var_dic_list()) "
    }
   },
   "types_to_exclude": [
    "module",
    "function",
    "builtin_function_or_method",
    "instance",
    "_Feature"
   ],
   "window_display": false
  }
 },
 "nbformat": 4,
 "nbformat_minor": 2
}

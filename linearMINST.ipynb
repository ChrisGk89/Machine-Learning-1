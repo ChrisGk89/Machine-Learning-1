{
 "cells": [
  {
   "cell_type": "code",
   "execution_count": 59,
   "metadata": {
    "ExecuteTime": {
     "end_time": "2019-01-08T22:05:43.162039Z",
     "start_time": "2019-01-08T22:05:39.886121Z"
    },
    "scrolled": true
   },
   "outputs": [],
   "source": [
    "from __future__ import print_function\n",
    "import keras\n",
    "from keras.datasets import mnist\n",
    "from keras.models import Sequential\n",
    "from keras.layers import Dense\n",
    "from keras.utils import np_utils\n",
    "from keras import backend as K"
   ]
  },
  {
   "cell_type": "code",
   "execution_count": 60,
   "metadata": {
    "ExecuteTime": {
     "end_time": "2019-01-08T22:05:43.181703Z",
     "start_time": "2019-01-08T22:05:43.171053Z"
    }
   },
   "outputs": [],
   "source": [
    "# Data in batches of 128 samples, 10 classes, and 15 epochs\n",
    "batch_size = 128\n",
    "num_classes=10\n",
    "epochs = 15"
   ]
  },
  {
   "cell_type": "code",
   "execution_count": 61,
   "metadata": {
    "ExecuteTime": {
     "end_time": "2019-01-08T22:05:43.197516Z",
     "start_time": "2019-01-08T22:05:43.187453Z"
    }
   },
   "outputs": [],
   "source": [
    "# input =  28x28 pixels and 1 color channel\n",
    "img_rows, img_cols = 28, 28"
   ]
  },
  {
   "cell_type": "code",
   "execution_count": 62,
   "metadata": {
    "ExecuteTime": {
     "end_time": "2019-01-08T22:05:43.810340Z",
     "start_time": "2019-01-08T22:05:43.205232Z"
    }
   },
   "outputs": [],
   "source": [
    "(x_train, y_train), (x_test, y_test) = mnist.load_data()"
   ]
  },
  {
   "cell_type": "code",
   "execution_count": 63,
   "metadata": {},
   "outputs": [],
   "source": [
    "# Make sure that the input shape is correct. \n",
    "# If input shape is 28,28,1 - needs to be 1,28,28\n",
    "# This way we could avoid \"only channels first supported\" error\n",
    "# when it used in multiple computers\n",
    "if K.image_data_format() == 'channels_first':\n",
    "    x_train = x_train.reshape(x_train.shape[0], 784)\n",
    "    x_test = x_test.reshape(x_test.shape[0], 784)\n",
    "    input_shape = (img_rows, img_cols)\n",
    "else:\n",
    "    x_train = x_train.reshape(x_train.shape[0], 784)\n",
    "    x_test = x_test.reshape(x_test.shape[0], 784)\n",
    "    input_shape = (img_rows, img_cols)"
   ]
  },
  {
   "cell_type": "code",
   "execution_count": 64,
   "metadata": {
    "ExecuteTime": {
     "end_time": "2019-01-08T22:05:44.245070Z",
     "start_time": "2019-01-08T22:05:43.813653Z"
    }
   },
   "outputs": [
    {
     "name": "stdout",
     "output_type": "stream",
     "text": [
      "x_train shape: (60000, 784)\n",
      "x_test shape: (10000, 784)\n",
      "60000 train samples\n",
      "10000 test samples\n"
     ]
    }
   ],
   "source": [
    "x_train = x_train.astype('float32')\n",
    "x_test = x_test.astype('float32')\n",
    "# normalizing data\n",
    "x_train /= 255\n",
    "x_test /= 255\n",
    "print('x_train shape:', x_train.shape)\n",
    "print('x_test shape:', x_test.shape)\n",
    "print(x_train.shape[0], 'train samples')\n",
    "print(x_test.shape[0], 'test samples')"
   ]
  },
  {
   "cell_type": "code",
   "execution_count": 65,
   "metadata": {
    "ExecuteTime": {
     "end_time": "2019-01-08T22:05:44.270792Z",
     "start_time": "2019-01-08T22:05:44.248726Z"
    }
   },
   "outputs": [],
   "source": [
    "\n",
    "y_train = np_utils.to_categorical(y_train, num_classes)\n",
    "y_test = np_utils.to_categorical(y_test, num_classes)"
   ]
  },
  {
   "cell_type": "code",
   "execution_count": 66,
   "metadata": {
    "ExecuteTime": {
     "end_time": "2019-01-08T22:05:44.928323Z",
     "start_time": "2019-01-08T22:05:44.281256Z"
    }
   },
   "outputs": [
    {
     "name": "stdout",
     "output_type": "stream",
     "text": [
      "Train on 60000 samples, validate on 10000 samples\n",
      "Epoch 1/15\n",
      "60000/60000 [==============================] - 4s 71us/step - loss: 0.3621 - acc: 0.8996 - val_loss: 0.1964 - val_acc: 0.9415\n",
      "Epoch 2/15\n",
      "60000/60000 [==============================] - 3s 56us/step - loss: 0.1668 - acc: 0.9521 - val_loss: 0.1377 - val_acc: 0.9598\n",
      "Epoch 3/15\n",
      "60000/60000 [==============================] - 4s 60us/step - loss: 0.1195 - acc: 0.9659 - val_loss: 0.1117 - val_acc: 0.9673\n",
      "Epoch 4/15\n",
      "60000/60000 [==============================] - 3s 57us/step - loss: 0.0933 - acc: 0.9730 - val_loss: 0.1097 - val_acc: 0.9679\n",
      "Epoch 5/15\n",
      "60000/60000 [==============================] - 3s 56us/step - loss: 0.0777 - acc: 0.9775 - val_loss: 0.0882 - val_acc: 0.9739\n",
      "Epoch 6/15\n",
      "60000/60000 [==============================] - 3s 58us/step - loss: 0.0635 - acc: 0.9819 - val_loss: 0.0825 - val_acc: 0.9744\n",
      "Epoch 7/15\n",
      "60000/60000 [==============================] - 3s 58us/step - loss: 0.0534 - acc: 0.9846 - val_loss: 0.0793 - val_acc: 0.9755\n",
      "Epoch 8/15\n",
      "60000/60000 [==============================] - 3s 58us/step - loss: 0.0448 - acc: 0.9870 - val_loss: 0.0802 - val_acc: 0.9757\n",
      "Epoch 9/15\n",
      "60000/60000 [==============================] - 4s 61us/step - loss: 0.0382 - acc: 0.9895 - val_loss: 0.0779 - val_acc: 0.9757\n",
      "Epoch 10/15\n",
      "60000/60000 [==============================] - 3s 58us/step - loss: 0.0331 - acc: 0.9907 - val_loss: 0.0790 - val_acc: 0.9759\n",
      "Epoch 11/15\n",
      "60000/60000 [==============================] - 3s 58us/step - loss: 0.0281 - acc: 0.9924 - val_loss: 0.0765 - val_acc: 0.9763\n",
      "Epoch 12/15\n",
      "60000/60000 [==============================] - 4s 66us/step - loss: 0.0240 - acc: 0.9937 - val_loss: 0.0718 - val_acc: 0.9786\n",
      "Epoch 13/15\n",
      "60000/60000 [==============================] - 5s 76us/step - loss: 0.0204 - acc: 0.9952 - val_loss: 0.0845 - val_acc: 0.9737\n",
      "Epoch 14/15\n",
      "60000/60000 [==============================] - 4s 71us/step - loss: 0.0171 - acc: 0.9960 - val_loss: 0.0726 - val_acc: 0.9784\n",
      "Epoch 15/15\n",
      "60000/60000 [==============================] - 5s 90us/step - loss: 0.0155 - acc: 0.9964 - val_loss: 0.0766 - val_acc: 0.9767\n"
     ]
    },
    {
     "data": {
      "text/plain": [
       "<keras.callbacks.History at 0x182a5f4190>"
      ]
     },
     "execution_count": 66,
     "metadata": {},
     "output_type": "execute_result"
    }
   ],
   "source": [
    "# Dense(128) is a fully-connected layer with 128 hidden units.\n",
    "# in the first layer, you must specify the expected input data shape:\n",
    "# here, 784-dimensional vectors (28 x 28 x 1).\n",
    "# Build a model\n",
    "model = Sequential();\n",
    "model.add(Dense(units=128, activation=\"relu\", input_dim=784))\n",
    "model.add(Dense(units= num_classes, activation=\"softmax\"))\n",
    "# Configure the learner.\n",
    "# We can add learning rate if we want in Adam optimizer (lr=0.001).\n",
    "\n",
    "model.compile(loss=keras.losses.categorical_crossentropy, \n",
    "              optimizer=keras.optimizers.Adam(), \n",
    "              metrics=['accuracy'])\n",
    "model.fit(x_train, y_train,\n",
    "          batch_size=batch_size,\n",
    "          epochs=epochs,\n",
    "          verbose=1, validation_data=(x_test, y_test))"
   ]
  },
  {
   "cell_type": "code",
   "execution_count": null,
   "metadata": {},
   "outputs": [],
   "source": []
  },
  {
   "cell_type": "code",
   "execution_count": 52,
   "metadata": {},
   "outputs": [
    {
     "name": "stdout",
     "output_type": "stream",
     "text": [
      "Test loss: 0.07926339714007918\n",
      "Test accuracy: 0.9782\n"
     ]
    }
   ],
   "source": [
    "score = model.evaluate(x_test, y_test, verbose=0)\n",
    "print('Test loss:', score[0])\n",
    "print('Test accuracy:', score[1])"
   ]
  },
  {
   "cell_type": "code",
   "execution_count": null,
   "metadata": {},
   "outputs": [],
   "source": []
  }
 ],
 "metadata": {
  "kernelspec": {
   "display_name": "Python 2",
   "language": "python",
   "name": "python2"
  },
  "language_info": {
   "codemirror_mode": {
    "name": "ipython",
    "version": 2
   },
   "file_extension": ".py",
   "mimetype": "text/x-python",
   "name": "python",
   "nbconvert_exporter": "python",
   "pygments_lexer": "ipython2",
   "version": "2.7.3"
  },
  "toc": {
   "base_numbering": 1,
   "nav_menu": {},
   "number_sections": true,
   "sideBar": true,
   "skip_h1_title": false,
   "title_cell": "Table of Contents",
   "title_sidebar": "Contents",
   "toc_cell": false,
   "toc_position": {},
   "toc_section_display": true,
   "toc_window_display": false
  },
  "varInspector": {
   "cols": {
    "lenName": 16,
    "lenType": 16,
    "lenVar": 40
   },
   "kernels_config": {
    "python": {
     "delete_cmd_postfix": "",
     "delete_cmd_prefix": "del ",
     "library": "var_list.py",
     "varRefreshCmd": "print(var_dic_list())"
    },
    "r": {
     "delete_cmd_postfix": ") ",
     "delete_cmd_prefix": "rm(",
     "library": "var_list.r",
     "varRefreshCmd": "cat(var_dic_list()) "
    }
   },
   "types_to_exclude": [
    "module",
    "function",
    "builtin_function_or_method",
    "instance",
    "_Feature"
   ],
   "window_display": false
  }
 },
 "nbformat": 4,
 "nbformat_minor": 2
}
